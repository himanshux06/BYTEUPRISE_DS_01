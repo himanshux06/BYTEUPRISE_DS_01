{
  "metadata": {
    "kernelspec": {
      "name": "python3",
      "display_name": "Python 3",
      "language": "python"
    },
    "language_info": {
      "name": "python",
      "version": "3.10.13",
      "mimetype": "text/x-python",
      "codemirror_mode": {
        "name": "ipython",
        "version": 3
      },
      "pygments_lexer": "ipython3",
      "nbconvert_exporter": "python",
      "file_extension": ".py"
    },
    "kaggle": {
      "accelerator": "none",
      "dataSources": [
        {
          "sourceId": 8097999,
          "sourceType": "datasetVersion",
          "datasetId": 4781722
        }
      ],
      "dockerImageVersionId": 30684,
      "isInternetEnabled": false,
      "language": "python",
      "sourceType": "notebook",
      "isGpuEnabled": false
    },
    "colab": {
      "name": "Adult Census Income Analysis and Prediction ",
      "provenance": [],
      "include_colab_link": true
    }
  },
  "nbformat_minor": 0,
  "nbformat": 4,
  "cells": [
    {
      "cell_type": "markdown",
      "metadata": {
        "id": "view-in-github",
        "colab_type": "text"
      },
      "source": [
        "<a href=\"https://colab.research.google.com/github/himanshux06/byteuprise_ds_01/blob/main/Adult_Census_Income_Analysis_and_PredictionBYTE%20UPRISE%20TASK%202%20DS.ipynb\" target=\"_parent\"><img src=\"https://colab.research.google.com/assets/colab-badge.svg\" alt=\"Open In Colab\"/></a>"
      ]
    },
    {
      "cell_type": "code",
      "source": [
        "import pandas as pd\n",
        "import numpy as np\n",
        "from matplotlib import pyplot as plt\n",
        "import seaborn as sns"
      ],
      "metadata": {
        "execution": {
          "iopub.status.busy": "2024-04-13T05:55:35.049941Z",
          "iopub.execute_input": "2024-04-13T05:55:35.050338Z",
          "iopub.status.idle": "2024-04-13T05:55:35.054793Z",
          "shell.execute_reply.started": "2024-04-13T05:55:35.050295Z",
          "shell.execute_reply": "2024-04-13T05:55:35.053962Z"
        },
        "trusted": true,
        "id": "p-BDtTyxHGhq"
      },
      "execution_count": null,
      "outputs": []
    },
    {
      "cell_type": "code",
      "source": [
        "df=pd.read_csv(\"/kaggle/input/adult-census-income/adult.csv\")"
      ],
      "metadata": {
        "execution": {
          "iopub.status.busy": "2024-04-13T05:55:41.702044Z",
          "iopub.execute_input": "2024-04-13T05:55:41.702429Z",
          "iopub.status.idle": "2024-04-13T05:55:41.794374Z",
          "shell.execute_reply.started": "2024-04-13T05:55:41.702401Z",
          "shell.execute_reply": "2024-04-13T05:55:41.79334Z"
        },
        "trusted": true,
        "id": "9_enATCuHGhr"
      },
      "execution_count": null,
      "outputs": []
    },
    {
      "cell_type": "code",
      "source": [
        "df.head()"
      ],
      "metadata": {
        "execution": {
          "iopub.status.busy": "2024-04-13T05:55:45.082128Z",
          "iopub.execute_input": "2024-04-13T05:55:45.082497Z",
          "iopub.status.idle": "2024-04-13T05:55:45.102862Z",
          "shell.execute_reply.started": "2024-04-13T05:55:45.082468Z",
          "shell.execute_reply": "2024-04-13T05:55:45.101937Z"
        },
        "trusted": true,
        "id": "YTz_QyfuHGhv"
      },
      "execution_count": null,
      "outputs": []
    },
    {
      "cell_type": "code",
      "source": [
        "# Removing the useless columns that do not add any value to my analysis"
      ],
      "metadata": {
        "execution": {
          "iopub.status.busy": "2024-04-13T05:55:09.586116Z",
          "iopub.status.idle": "2024-04-13T05:55:09.586906Z",
          "shell.execute_reply.started": "2024-04-13T05:55:09.586628Z",
          "shell.execute_reply": "2024-04-13T05:55:09.586652Z"
        },
        "trusted": true,
        "id": "0M1KfIHfHGhv"
      },
      "execution_count": null,
      "outputs": []
    },
    {
      "cell_type": "code",
      "source": [
        "df.head()"
      ],
      "metadata": {
        "execution": {
          "iopub.status.busy": "2024-04-13T05:57:31.281477Z",
          "iopub.execute_input": "2024-04-13T05:57:31.281886Z",
          "iopub.status.idle": "2024-04-13T05:57:31.296553Z",
          "shell.execute_reply.started": "2024-04-13T05:57:31.281844Z",
          "shell.execute_reply": "2024-04-13T05:57:31.29561Z"
        },
        "trusted": true,
        "id": "SPbsL-alHGhv"
      },
      "execution_count": null,
      "outputs": []
    },
    {
      "cell_type": "code",
      "source": [
        "# Renaming the columns"
      ],
      "metadata": {
        "id": "7ZQk0p6YHGhv"
      },
      "execution_count": null,
      "outputs": []
    },
    {
      "cell_type": "code",
      "source": [
        "df.rename(columns={\"education.num\":\"edu\",\"marital.status\":\"marital\",\"occupation\":\"job\",\"hours.per.week\":\"hours\",\"native.country\":\"country\"},inplace=True)"
      ],
      "metadata": {
        "execution": {
          "iopub.status.busy": "2024-04-13T05:57:52.448795Z",
          "iopub.execute_input": "2024-04-13T05:57:52.449182Z",
          "iopub.status.idle": "2024-04-13T05:57:52.455033Z",
          "shell.execute_reply.started": "2024-04-13T05:57:52.449153Z",
          "shell.execute_reply": "2024-04-13T05:57:52.454089Z"
        },
        "trusted": true,
        "id": "yl0BwivxHGhw"
      },
      "execution_count": null,
      "outputs": []
    },
    {
      "cell_type": "code",
      "source": [
        "df.info()"
      ],
      "metadata": {
        "execution": {
          "iopub.status.busy": "2024-04-13T05:57:54.594211Z",
          "iopub.execute_input": "2024-04-13T05:57:54.594602Z",
          "iopub.status.idle": "2024-04-13T05:57:54.640243Z",
          "shell.execute_reply.started": "2024-04-13T05:57:54.594573Z",
          "shell.execute_reply": "2024-04-13T05:57:54.63927Z"
        },
        "trusted": true,
        "id": "kYbEy5vqHGhw"
      },
      "execution_count": null,
      "outputs": []
    },
    {
      "cell_type": "code",
      "source": [
        "df.isna().sum()\n",
        "#There are null values but they are denoted as \"?\" so i have to take care of that"
      ],
      "metadata": {
        "execution": {
          "iopub.status.busy": "2024-04-13T05:57:58.147784Z",
          "iopub.execute_input": "2024-04-13T05:57:58.148179Z",
          "iopub.status.idle": "2024-04-13T05:57:58.182773Z",
          "shell.execute_reply.started": "2024-04-13T05:57:58.148148Z",
          "shell.execute_reply": "2024-04-13T05:57:58.182031Z"
        },
        "trusted": true,
        "id": "Rl0oJMY0HGhw"
      },
      "execution_count": null,
      "outputs": []
    },
    {
      "cell_type": "code",
      "source": [
        "df.replace(\"?\",pd.NA,inplace=True)"
      ],
      "metadata": {
        "execution": {
          "iopub.status.busy": "2024-04-13T05:58:01.172531Z",
          "iopub.execute_input": "2024-04-13T05:58:01.173113Z",
          "iopub.status.idle": "2024-04-13T05:58:01.215847Z",
          "shell.execute_reply.started": "2024-04-13T05:58:01.173074Z",
          "shell.execute_reply": "2024-04-13T05:58:01.215103Z"
        },
        "trusted": true,
        "id": "8AZpizpZHGhx"
      },
      "execution_count": null,
      "outputs": []
    },
    {
      "cell_type": "code",
      "source": [
        "df.isna().sum()"
      ],
      "metadata": {
        "execution": {
          "iopub.status.busy": "2024-04-13T05:58:03.25533Z",
          "iopub.execute_input": "2024-04-13T05:58:03.255985Z",
          "iopub.status.idle": "2024-04-13T05:58:03.295593Z",
          "shell.execute_reply.started": "2024-04-13T05:58:03.255951Z",
          "shell.execute_reply": "2024-04-13T05:58:03.294824Z"
        },
        "trusted": true,
        "id": "pvdGlCJaHGhx"
      },
      "execution_count": null,
      "outputs": []
    },
    {
      "cell_type": "code",
      "source": [
        "df.head()"
      ],
      "metadata": {
        "execution": {
          "iopub.status.busy": "2024-04-13T05:58:05.668707Z",
          "iopub.execute_input": "2024-04-13T05:58:05.669132Z",
          "iopub.status.idle": "2024-04-13T05:58:05.683783Z",
          "shell.execute_reply.started": "2024-04-13T05:58:05.669106Z",
          "shell.execute_reply": "2024-04-13T05:58:05.682744Z"
        },
        "trusted": true,
        "id": "d5FXbDMPHGhx"
      },
      "execution_count": null,
      "outputs": []
    },
    {
      "cell_type": "code",
      "source": [
        "df.shape"
      ],
      "metadata": {
        "execution": {
          "iopub.status.busy": "2024-04-13T05:58:07.873307Z",
          "iopub.execute_input": "2024-04-13T05:58:07.873621Z",
          "iopub.status.idle": "2024-04-13T05:58:07.87971Z",
          "shell.execute_reply.started": "2024-04-13T05:58:07.873597Z",
          "shell.execute_reply": "2024-04-13T05:58:07.878781Z"
        },
        "trusted": true,
        "id": "ntsdK9rVHGhx"
      },
      "execution_count": null,
      "outputs": []
    },
    {
      "cell_type": "code",
      "source": [
        "# There are more than 30k rows of data so i can drop the null values although i can fill them with mode form there respective columns\n",
        "# but i think that will make the data incorrect"
      ],
      "metadata": {
        "id": "uWQ0k-1xHGhy"
      },
      "execution_count": null,
      "outputs": []
    },
    {
      "cell_type": "code",
      "source": [
        "df.dropna(inplace=True)"
      ],
      "metadata": {
        "execution": {
          "iopub.status.busy": "2024-04-13T05:58:12.138841Z",
          "iopub.execute_input": "2024-04-13T05:58:12.13989Z",
          "iopub.status.idle": "2024-04-13T05:58:12.175093Z",
          "shell.execute_reply.started": "2024-04-13T05:58:12.139848Z",
          "shell.execute_reply": "2024-04-13T05:58:12.173928Z"
        },
        "trusted": true,
        "id": "HremZxFNHGhy"
      },
      "execution_count": null,
      "outputs": []
    },
    {
      "cell_type": "code",
      "source": [
        "df.isna().sum()"
      ],
      "metadata": {
        "execution": {
          "iopub.status.busy": "2024-04-13T05:58:14.337004Z",
          "iopub.execute_input": "2024-04-13T05:58:14.338011Z",
          "iopub.status.idle": "2024-04-13T05:58:14.369822Z",
          "shell.execute_reply.started": "2024-04-13T05:58:14.337967Z",
          "shell.execute_reply": "2024-04-13T05:58:14.368908Z"
        },
        "trusted": true,
        "id": "sdgSEg5KHGhy"
      },
      "execution_count": null,
      "outputs": []
    },
    {
      "cell_type": "code",
      "source": [
        "df.shape"
      ],
      "metadata": {
        "execution": {
          "iopub.status.busy": "2024-04-13T05:58:17.149912Z",
          "iopub.execute_input": "2024-04-13T05:58:17.150275Z",
          "iopub.status.idle": "2024-04-13T05:58:17.156809Z",
          "shell.execute_reply.started": "2024-04-13T05:58:17.150249Z",
          "shell.execute_reply": "2024-04-13T05:58:17.155702Z"
        },
        "trusted": true,
        "id": "Fy-XDNl3HGhy"
      },
      "execution_count": null,
      "outputs": []
    },
    {
      "cell_type": "code",
      "source": [
        "df.head()"
      ],
      "metadata": {
        "execution": {
          "iopub.status.busy": "2024-04-13T05:58:19.825145Z",
          "iopub.execute_input": "2024-04-13T05:58:19.825893Z",
          "iopub.status.idle": "2024-04-13T05:58:19.839216Z",
          "shell.execute_reply.started": "2024-04-13T05:58:19.825856Z",
          "shell.execute_reply": "2024-04-13T05:58:19.838334Z"
        },
        "trusted": true,
        "id": "rKoJw3FBHGhy"
      },
      "execution_count": null,
      "outputs": []
    },
    {
      "cell_type": "code",
      "source": [
        "df[\"age\"].plot(kind=\"kde\")"
      ],
      "metadata": {
        "execution": {
          "iopub.status.busy": "2024-04-13T05:58:23.563726Z",
          "iopub.execute_input": "2024-04-13T05:58:23.564064Z",
          "iopub.status.idle": "2024-04-13T05:58:24.44634Z",
          "shell.execute_reply.started": "2024-04-13T05:58:23.564039Z",
          "shell.execute_reply": "2024-04-13T05:58:24.445613Z"
        },
        "trusted": true,
        "id": "pi30XAPkHGhy"
      },
      "execution_count": null,
      "outputs": []
    },
    {
      "cell_type": "code",
      "source": [
        "df[\"workclass\"].value_counts().plot(kind=\"bar\")\n",
        "# Most of the people have private jobs\n",
        "# there is a catogery with \"without-pay\" they must be the unpaid interns haha\n",
        "# i will drop them as they do not contribute any income"
      ],
      "metadata": {
        "execution": {
          "iopub.status.busy": "2024-04-13T05:58:27.889899Z",
          "iopub.execute_input": "2024-04-13T05:58:27.890593Z",
          "iopub.status.idle": "2024-04-13T05:58:28.09962Z",
          "shell.execute_reply.started": "2024-04-13T05:58:27.890559Z",
          "shell.execute_reply": "2024-04-13T05:58:28.098561Z"
        },
        "trusted": true,
        "id": "3NxQJ6r_HGhz"
      },
      "execution_count": null,
      "outputs": []
    },
    {
      "cell_type": "code",
      "source": [
        "df[\"workclass\"].unique()"
      ],
      "metadata": {
        "execution": {
          "iopub.status.busy": "2024-04-13T05:58:31.413652Z",
          "iopub.execute_input": "2024-04-13T05:58:31.414398Z",
          "iopub.status.idle": "2024-04-13T05:58:31.424391Z",
          "shell.execute_reply.started": "2024-04-13T05:58:31.414347Z",
          "shell.execute_reply": "2024-04-13T05:58:31.423646Z"
        },
        "trusted": true,
        "id": "xcfSPNS2HGhz"
      },
      "execution_count": null,
      "outputs": []
    },
    {
      "cell_type": "code",
      "source": [
        "df = df[df[\"workclass\"] != 'Without-pay']"
      ],
      "metadata": {
        "execution": {
          "iopub.status.busy": "2024-04-13T05:58:34.267907Z",
          "iopub.execute_input": "2024-04-13T05:58:34.270276Z",
          "iopub.status.idle": "2024-04-13T05:58:34.283928Z",
          "shell.execute_reply.started": "2024-04-13T05:58:34.270241Z",
          "shell.execute_reply": "2024-04-13T05:58:34.283062Z"
        },
        "trusted": true,
        "id": "wL-DhKkZHGhz"
      },
      "execution_count": null,
      "outputs": []
    },
    {
      "cell_type": "code",
      "source": [
        "df[\"workclass\"].value_counts().plot(kind=\"bar\")\n",
        "# This looks better i feel sorry for thos unpaid interns"
      ],
      "metadata": {
        "execution": {
          "iopub.status.busy": "2024-04-13T05:58:36.255909Z",
          "iopub.execute_input": "2024-04-13T05:58:36.257165Z",
          "iopub.status.idle": "2024-04-13T05:58:36.496995Z",
          "shell.execute_reply.started": "2024-04-13T05:58:36.25713Z",
          "shell.execute_reply": "2024-04-13T05:58:36.49593Z"
        },
        "trusted": true,
        "id": "UrLtrlOCHGhz"
      },
      "execution_count": null,
      "outputs": []
    },
    {
      "cell_type": "code",
      "source": [
        "df.head()"
      ],
      "metadata": {
        "execution": {
          "iopub.status.busy": "2024-04-13T05:58:39.796792Z",
          "iopub.execute_input": "2024-04-13T05:58:39.797217Z",
          "iopub.status.idle": "2024-04-13T05:58:39.812505Z",
          "shell.execute_reply.started": "2024-04-13T05:58:39.797181Z",
          "shell.execute_reply": "2024-04-13T05:58:39.811692Z"
        },
        "trusted": true,
        "id": "07pO2gNpHGhz"
      },
      "execution_count": null,
      "outputs": []
    },
    {
      "cell_type": "code",
      "source": [
        "df[\"edu\"].value_counts().plot(kind=\"bar\")\n",
        "# Most of the people have HS-grade of education there are few with no education also that is denoted by 1\n",
        "# refer to the education column from the actual dataset to know more about the education and there coressponding values"
      ],
      "metadata": {
        "execution": {
          "iopub.status.busy": "2024-04-13T05:58:43.604549Z",
          "iopub.execute_input": "2024-04-13T05:58:43.604905Z",
          "iopub.status.idle": "2024-04-13T05:58:43.904004Z",
          "shell.execute_reply.started": "2024-04-13T05:58:43.60486Z",
          "shell.execute_reply": "2024-04-13T05:58:43.903058Z"
        },
        "trusted": true,
        "id": "7f7uTNrSHGhz"
      },
      "execution_count": null,
      "outputs": []
    },
    {
      "cell_type": "code",
      "source": [
        "marital_counts = df['marital'].value_counts()\n",
        "plt.figure(figsize=(10,6))\n",
        "patches, texts, _ = plt.pie(marital_counts, autopct='%1.1f%%', startangle=140)\n",
        "plt.title('Marital Status Distribution')\n",
        "plt.legend(patches, marital_counts.index, title=\"Marital Status\", loc=\"center left\", bbox_to_anchor=(1, 0, 0.5, 1))\n",
        "\n",
        "plt.show()"
      ],
      "metadata": {
        "execution": {
          "iopub.status.busy": "2024-04-13T05:58:46.580233Z",
          "iopub.execute_input": "2024-04-13T05:58:46.580915Z",
          "iopub.status.idle": "2024-04-13T05:58:46.853478Z",
          "shell.execute_reply.started": "2024-04-13T05:58:46.580877Z",
          "shell.execute_reply": "2024-04-13T05:58:46.852467Z"
        },
        "trusted": true,
        "id": "o3J3bMgyHGh0"
      },
      "execution_count": null,
      "outputs": []
    },
    {
      "cell_type": "code",
      "source": [
        "df[\"job\"].value_counts()"
      ],
      "metadata": {
        "execution": {
          "iopub.status.busy": "2024-04-13T05:58:50.235804Z",
          "iopub.execute_input": "2024-04-13T05:58:50.236337Z",
          "iopub.status.idle": "2024-04-13T05:58:50.247716Z",
          "shell.execute_reply.started": "2024-04-13T05:58:50.236303Z",
          "shell.execute_reply": "2024-04-13T05:58:50.246576Z"
        },
        "trusted": true,
        "id": "11__pX-iHGh0"
      },
      "execution_count": null,
      "outputs": []
    },
    {
      "cell_type": "code",
      "source": [
        "# I think i can just use One-Hot encoding for this column as there not many Categories"
      ],
      "metadata": {
        "id": "7jcLgrbEHGh0"
      },
      "execution_count": null,
      "outputs": []
    },
    {
      "cell_type": "code",
      "source": [
        "df.job.value_counts().plot(kind=\"bar\")"
      ],
      "metadata": {
        "execution": {
          "iopub.status.busy": "2024-04-13T05:58:53.64039Z",
          "iopub.execute_input": "2024-04-13T05:58:53.640741Z",
          "iopub.status.idle": "2024-04-13T05:58:53.985177Z",
          "shell.execute_reply.started": "2024-04-13T05:58:53.64071Z",
          "shell.execute_reply": "2024-04-13T05:58:53.984198Z"
        },
        "trusted": true,
        "id": "HDf3bZkDHGh0"
      },
      "execution_count": null,
      "outputs": []
    },
    {
      "cell_type": "code",
      "source": [
        "df.head()"
      ],
      "metadata": {
        "execution": {
          "iopub.status.busy": "2024-04-13T05:58:57.590452Z",
          "iopub.execute_input": "2024-04-13T05:58:57.590791Z",
          "iopub.status.idle": "2024-04-13T05:58:57.605128Z",
          "shell.execute_reply.started": "2024-04-13T05:58:57.590766Z",
          "shell.execute_reply": "2024-04-13T05:58:57.604187Z"
        },
        "trusted": true,
        "id": "qud5atGMHGh0"
      },
      "execution_count": null,
      "outputs": []
    },
    {
      "cell_type": "code",
      "source": [
        "df[\"relationship\"].value_counts().plot(kind=\"bar\")"
      ],
      "metadata": {
        "execution": {
          "iopub.status.busy": "2024-04-13T05:58:59.945202Z",
          "iopub.execute_input": "2024-04-13T05:58:59.945543Z",
          "iopub.status.idle": "2024-04-13T05:59:00.146406Z",
          "shell.execute_reply.started": "2024-04-13T05:58:59.945519Z",
          "shell.execute_reply": "2024-04-13T05:59:00.145459Z"
        },
        "trusted": true,
        "id": "XC12S8C3HGh1"
      },
      "execution_count": null,
      "outputs": []
    },
    {
      "cell_type": "code",
      "source": [
        "# Checking relationship between work class and income\n",
        "df.groupby(\"workclass\").income.value_counts().plot(kind=\"bar\")\n",
        "# Most of the people have private earn less then 50k"
      ],
      "metadata": {
        "id": "a1fBWIDVHGh1"
      },
      "execution_count": null,
      "outputs": []
    },
    {
      "cell_type": "code",
      "source": [
        "# education vs income"
      ],
      "metadata": {
        "id": "m53YbPO9HGh2"
      },
      "execution_count": null,
      "outputs": []
    },
    {
      "cell_type": "code",
      "source": [
        "df.groupby(\"income\").edu.mean().reset_index().sort_values(by=\"income\")\n",
        "# Those who earn more than 50k have better education so kids study hard"
      ],
      "metadata": {
        "id": "vS6E4aMYHGh2"
      },
      "execution_count": null,
      "outputs": []
    },
    {
      "cell_type": "code",
      "source": [
        "df.head()"
      ],
      "metadata": {
        "execution": {
          "iopub.status.busy": "2024-04-13T05:59:10.608011Z",
          "iopub.execute_input": "2024-04-13T05:59:10.609165Z",
          "iopub.status.idle": "2024-04-13T05:59:10.623248Z",
          "shell.execute_reply.started": "2024-04-13T05:59:10.60913Z",
          "shell.execute_reply": "2024-04-13T05:59:10.622377Z"
        },
        "trusted": true,
        "id": "4lJcqozaHGh2"
      },
      "execution_count": null,
      "outputs": []
    },
    {
      "cell_type": "code",
      "source": [
        "df[\"race\"].value_counts()"
      ],
      "metadata": {
        "execution": {
          "iopub.status.busy": "2024-04-13T05:59:08.892058Z",
          "iopub.execute_input": "2024-04-13T05:59:08.892662Z",
          "iopub.status.idle": "2024-04-13T05:59:08.904811Z",
          "shell.execute_reply.started": "2024-04-13T05:59:08.892632Z",
          "shell.execute_reply": "2024-04-13T05:59:08.903773Z"
        },
        "trusted": true,
        "id": "B5VKULYdHGh2"
      },
      "execution_count": null,
      "outputs": []
    },
    {
      "cell_type": "code",
      "source": [
        "df.race.value_counts().plot(kind=\"pie\")\n",
        "# most of the peple are white followed by Black and Asians"
      ],
      "metadata": {
        "id": "TI-U2GFHHGh2"
      },
      "execution_count": null,
      "outputs": []
    },
    {
      "cell_type": "code",
      "source": [
        "# Race vs marital status"
      ],
      "metadata": {
        "id": "jDxIzdGKHGh3"
      },
      "execution_count": null,
      "outputs": []
    },
    {
      "cell_type": "code",
      "source": [
        "df.groupby(\"marital\").race.value_counts().plot(kind=\"bar\")"
      ],
      "metadata": {
        "execution": {
          "iopub.status.busy": "2024-04-13T05:59:14.523609Z",
          "iopub.execute_input": "2024-04-13T05:59:14.523972Z",
          "iopub.status.idle": "2024-04-13T05:59:15.110463Z",
          "shell.execute_reply.started": "2024-04-13T05:59:14.523946Z",
          "shell.execute_reply": "2024-04-13T05:59:15.109711Z"
        },
        "trusted": true,
        "id": "XqeMaQzhHGh3"
      },
      "execution_count": null,
      "outputs": []
    },
    {
      "cell_type": "code",
      "source": [
        "# Hours vs job type"
      ],
      "metadata": {
        "id": "MCHNEoVLHGh4"
      },
      "execution_count": null,
      "outputs": []
    },
    {
      "cell_type": "code",
      "source": [
        "df.groupby(\"job\").hours.mean().reset_index().sort_values(by=\"hours\")\n",
        "# Farming and fishing workers work the most number of hours\n",
        "# private house serv type job have the least number of hours"
      ],
      "metadata": {
        "execution": {
          "iopub.status.busy": "2024-04-13T05:59:20.28441Z",
          "iopub.execute_input": "2024-04-13T05:59:20.284901Z",
          "iopub.status.idle": "2024-04-13T05:59:20.302808Z",
          "shell.execute_reply.started": "2024-04-13T05:59:20.284874Z",
          "shell.execute_reply": "2024-04-13T05:59:20.302013Z"
        },
        "trusted": true,
        "id": "gQ6gx8yzHGh4"
      },
      "execution_count": null,
      "outputs": []
    },
    {
      "cell_type": "code",
      "source": [
        "df.head()"
      ],
      "metadata": {
        "execution": {
          "iopub.status.busy": "2024-04-13T05:59:23.163836Z",
          "iopub.execute_input": "2024-04-13T05:59:23.164199Z",
          "iopub.status.idle": "2024-04-13T05:59:23.178486Z",
          "shell.execute_reply.started": "2024-04-13T05:59:23.164172Z",
          "shell.execute_reply": "2024-04-13T05:59:23.177695Z"
        },
        "trusted": true,
        "id": "svJP7T27HGh4"
      },
      "execution_count": null,
      "outputs": []
    },
    {
      "cell_type": "code",
      "source": [
        "df.income.value_counts().plot(kind=\"bar\")\n",
        "# most of the people earn less than 50k"
      ],
      "metadata": {
        "execution": {
          "iopub.status.busy": "2024-04-13T05:59:25.104218Z",
          "iopub.execute_input": "2024-04-13T05:59:25.104566Z",
          "iopub.status.idle": "2024-04-13T05:59:25.258626Z",
          "shell.execute_reply.started": "2024-04-13T05:59:25.104537Z",
          "shell.execute_reply": "2024-04-13T05:59:25.257511Z"
        },
        "trusted": true,
        "id": "etQ9feNyHGh4"
      },
      "execution_count": null,
      "outputs": []
    },
    {
      "cell_type": "code",
      "source": [
        "# Model building and evaluation"
      ],
      "metadata": {
        "id": "-O0MBRLFHGh4"
      },
      "execution_count": null,
      "outputs": []
    },
    {
      "cell_type": "code",
      "source": [
        "df.info()"
      ],
      "metadata": {
        "execution": {
          "iopub.status.busy": "2024-04-13T05:59:30.024118Z",
          "iopub.execute_input": "2024-04-13T05:59:30.024457Z",
          "iopub.status.idle": "2024-04-13T05:59:30.058032Z",
          "shell.execute_reply.started": "2024-04-13T05:59:30.024432Z",
          "shell.execute_reply": "2024-04-13T05:59:30.05698Z"
        },
        "trusted": true,
        "id": "RbZrpamaHGh5"
      },
      "execution_count": null,
      "outputs": []
    },
    {
      "cell_type": "code",
      "source": [
        "df.isna().sum()"
      ],
      "metadata": {
        "execution": {
          "iopub.status.busy": "2024-04-13T05:59:32.874433Z",
          "iopub.execute_input": "2024-04-13T05:59:32.875154Z",
          "iopub.status.idle": "2024-04-13T05:59:32.904947Z",
          "shell.execute_reply.started": "2024-04-13T05:59:32.875118Z",
          "shell.execute_reply": "2024-04-13T05:59:32.90419Z"
        },
        "trusted": true,
        "id": "o-f3BQB_HGh5"
      },
      "execution_count": null,
      "outputs": []
    },
    {
      "cell_type": "code",
      "source": [
        "df.head()"
      ],
      "metadata": {
        "execution": {
          "iopub.status.busy": "2024-04-13T05:59:35.900226Z",
          "iopub.execute_input": "2024-04-13T05:59:35.900579Z",
          "iopub.status.idle": "2024-04-13T05:59:35.914879Z",
          "shell.execute_reply.started": "2024-04-13T05:59:35.900552Z",
          "shell.execute_reply": "2024-04-13T05:59:35.913875Z"
        },
        "trusted": true,
        "id": "4OhcmGbhHGh5"
      },
      "execution_count": null,
      "outputs": []
    },
    {
      "cell_type": "code",
      "source": [
        "# Encoding"
      ],
      "metadata": {
        "id": "3hMfofWQHGh5"
      },
      "execution_count": null,
      "outputs": []
    },
    {
      "cell_type": "code",
      "source": [
        "# work class i am using frequency encoding\n",
        "location_freq = df['workclass'].value_counts(normalize=True).to_dict()\n",
        "df['workclass_freq'] = df['workclass'].map(location_freq)"
      ],
      "metadata": {
        "execution": {
          "iopub.status.busy": "2024-04-13T05:59:38.26244Z",
          "iopub.execute_input": "2024-04-13T05:59:38.263362Z",
          "iopub.status.idle": "2024-04-13T05:59:38.274951Z",
          "shell.execute_reply.started": "2024-04-13T05:59:38.263327Z",
          "shell.execute_reply": "2024-04-13T05:59:38.274085Z"
        },
        "trusted": true,
        "id": "y5hELZnrHGh5"
      },
      "execution_count": null,
      "outputs": []
    },
    {
      "cell_type": "code",
      "source": [
        "df.head()"
      ],
      "metadata": {
        "execution": {
          "iopub.status.busy": "2024-04-13T05:59:40.411919Z",
          "iopub.execute_input": "2024-04-13T05:59:40.412356Z",
          "iopub.status.idle": "2024-04-13T05:59:40.427908Z",
          "shell.execute_reply.started": "2024-04-13T05:59:40.412316Z",
          "shell.execute_reply": "2024-04-13T05:59:40.426186Z"
        },
        "trusted": true,
        "id": "oJMFqKsKHGh6"
      },
      "execution_count": null,
      "outputs": []
    },
    {
      "cell_type": "code",
      "source": [
        "# marital i am using one hot encoding as there are less number of unqiue of values\n",
        "df['marital'] = df['marital'].astype('category')\n",
        "df = pd.get_dummies(df, columns=['marital'], prefix='marital')"
      ],
      "metadata": {
        "id": "oARlP9O2HGh6"
      },
      "execution_count": null,
      "outputs": []
    },
    {
      "cell_type": "code",
      "source": [
        "df.head()"
      ],
      "metadata": {
        "id": "w53gC_LaHGh6"
      },
      "execution_count": null,
      "outputs": []
    },
    {
      "cell_type": "code",
      "source": [
        "# job -  i am using frequency encoding\n",
        "location_freq = df['job'].value_counts(normalize=True).to_dict()\n",
        "df['Job'] = df['job'].map(location_freq)"
      ],
      "metadata": {
        "execution": {
          "iopub.status.busy": "2024-04-13T05:59:51.789494Z",
          "iopub.execute_input": "2024-04-13T05:59:51.790246Z",
          "iopub.status.idle": "2024-04-13T05:59:51.802658Z",
          "shell.execute_reply.started": "2024-04-13T05:59:51.790215Z",
          "shell.execute_reply": "2024-04-13T05:59:51.801566Z"
        },
        "trusted": true,
        "id": "G4Y9K35JHGh6"
      },
      "execution_count": null,
      "outputs": []
    },
    {
      "cell_type": "code",
      "source": [
        "df.drop(columns=[\"job\"],inplace=True)"
      ],
      "metadata": {
        "execution": {
          "iopub.status.busy": "2024-04-13T05:59:53.827226Z",
          "iopub.execute_input": "2024-04-13T05:59:53.827624Z",
          "iopub.status.idle": "2024-04-13T05:59:53.836664Z",
          "shell.execute_reply.started": "2024-04-13T05:59:53.827592Z",
          "shell.execute_reply": "2024-04-13T05:59:53.835684Z"
        },
        "trusted": true,
        "id": "Vq8A9nMXHGh6"
      },
      "execution_count": null,
      "outputs": []
    },
    {
      "cell_type": "code",
      "source": [
        "df.head()"
      ],
      "metadata": {
        "execution": {
          "iopub.status.busy": "2024-04-13T05:59:56.428558Z",
          "iopub.execute_input": "2024-04-13T05:59:56.428903Z",
          "iopub.status.idle": "2024-04-13T05:59:56.442218Z",
          "shell.execute_reply.started": "2024-04-13T05:59:56.428874Z",
          "shell.execute_reply": "2024-04-13T05:59:56.441293Z"
        },
        "trusted": true,
        "id": "KmWxqy2bHGh7"
      },
      "execution_count": null,
      "outputs": []
    },
    {
      "cell_type": "code",
      "source": [
        "# relationship -  i am using one hot encoding as there are less number of unqiue of values\n",
        "df['relationship'] = df['relationship'].astype('category')\n",
        "df = pd.get_dummies(df, columns=['relationship'], prefix='relationship')"
      ],
      "metadata": {
        "execution": {
          "iopub.status.busy": "2024-04-13T05:59:58.770622Z",
          "iopub.execute_input": "2024-04-13T05:59:58.770989Z",
          "iopub.status.idle": "2024-04-13T05:59:58.792141Z",
          "shell.execute_reply.started": "2024-04-13T05:59:58.770959Z",
          "shell.execute_reply": "2024-04-13T05:59:58.791307Z"
        },
        "trusted": true,
        "id": "PITSOkZrHGh7"
      },
      "execution_count": null,
      "outputs": []
    },
    {
      "cell_type": "code",
      "source": [
        "df.head()"
      ],
      "metadata": {
        "execution": {
          "iopub.status.busy": "2024-04-13T06:00:01.074202Z",
          "iopub.execute_input": "2024-04-13T06:00:01.074743Z",
          "iopub.status.idle": "2024-04-13T06:00:01.093665Z",
          "shell.execute_reply.started": "2024-04-13T06:00:01.074715Z",
          "shell.execute_reply": "2024-04-13T06:00:01.092662Z"
        },
        "trusted": true,
        "id": "wbyqmfwEHGh7"
      },
      "execution_count": null,
      "outputs": []
    },
    {
      "cell_type": "code",
      "source": [
        "# country - i am using one hot encoding as there are less number of unqiue of values\n",
        "df['country'] = df['country'].astype('category')\n",
        "df = pd.get_dummies(df, columns=['country'], prefix='country')"
      ],
      "metadata": {
        "execution": {
          "iopub.status.busy": "2024-04-13T06:00:05.822947Z",
          "iopub.execute_input": "2024-04-13T06:00:05.823379Z",
          "iopub.status.idle": "2024-04-13T06:00:05.843882Z",
          "shell.execute_reply.started": "2024-04-13T06:00:05.823348Z",
          "shell.execute_reply": "2024-04-13T06:00:05.843063Z"
        },
        "trusted": true,
        "id": "lYkbEL5BHGh8"
      },
      "execution_count": null,
      "outputs": []
    },
    {
      "cell_type": "code",
      "source": [
        "df['Income'] = df['income'].apply(lambda x: 0 if x == '<=50K' else 1)"
      ],
      "metadata": {
        "execution": {
          "iopub.status.busy": "2024-04-13T06:00:03.71357Z",
          "iopub.execute_input": "2024-04-13T06:00:03.713941Z",
          "iopub.status.idle": "2024-04-13T06:00:03.739764Z",
          "shell.execute_reply.started": "2024-04-13T06:00:03.713909Z",
          "shell.execute_reply": "2024-04-13T06:00:03.738692Z"
        },
        "trusted": true,
        "id": "fSrcszb9HGh8"
      },
      "execution_count": null,
      "outputs": []
    },
    {
      "cell_type": "code",
      "source": [
        "df.drop(columns=[\"income\"],inplace=True)"
      ],
      "metadata": {
        "id": "rGUv7ubHHGh8"
      },
      "execution_count": null,
      "outputs": []
    },
    {
      "cell_type": "code",
      "source": [
        "df['race'] = df['race'].astype('category')\n",
        "df = pd.get_dummies(df, columns=['race'], prefix='race')"
      ],
      "metadata": {
        "execution": {
          "iopub.status.busy": "2024-04-13T06:00:09.020973Z",
          "iopub.execute_input": "2024-04-13T06:00:09.021341Z",
          "iopub.status.idle": "2024-04-13T06:00:09.039927Z",
          "shell.execute_reply.started": "2024-04-13T06:00:09.021313Z",
          "shell.execute_reply": "2024-04-13T06:00:09.039166Z"
        },
        "trusted": true,
        "id": "S1ieUAqmHGh8"
      },
      "execution_count": null,
      "outputs": []
    },
    {
      "cell_type": "code",
      "source": [
        "df['sex'] = df['sex'].astype('category')\n",
        "df = pd.get_dummies(df, columns=['sex'], prefix='sex')"
      ],
      "metadata": {
        "id": "YZiQR7OHHGh8"
      },
      "execution_count": null,
      "outputs": []
    },
    {
      "cell_type": "code",
      "source": [
        "df.head()"
      ],
      "metadata": {
        "id": "ygn3iPuZHGh9"
      },
      "execution_count": null,
      "outputs": []
    },
    {
      "cell_type": "code",
      "source": [
        "# normalizing hours and age column using min - max scaling"
      ],
      "metadata": {
        "id": "B9MvNqbjHGh9"
      },
      "execution_count": null,
      "outputs": []
    },
    {
      "cell_type": "code",
      "source": [
        "from sklearn.preprocessing import MinMaxScaler"
      ],
      "metadata": {
        "execution": {
          "iopub.status.busy": "2024-04-13T06:00:17.756817Z",
          "iopub.execute_input": "2024-04-13T06:00:17.757192Z",
          "iopub.status.idle": "2024-04-13T06:00:18.086431Z",
          "shell.execute_reply.started": "2024-04-13T06:00:17.757163Z",
          "shell.execute_reply": "2024-04-13T06:00:18.085501Z"
        },
        "trusted": true,
        "id": "b_2q0PJ4HGh9"
      },
      "execution_count": null,
      "outputs": []
    },
    {
      "cell_type": "code",
      "source": [
        "scaler = MinMaxScaler()"
      ],
      "metadata": {
        "execution": {
          "iopub.status.busy": "2024-04-13T06:00:19.888522Z",
          "iopub.execute_input": "2024-04-13T06:00:19.888939Z",
          "iopub.status.idle": "2024-04-13T06:00:19.893376Z",
          "shell.execute_reply.started": "2024-04-13T06:00:19.888907Z",
          "shell.execute_reply": "2024-04-13T06:00:19.892078Z"
        },
        "trusted": true,
        "id": "uuh_m4YRHGh9"
      },
      "execution_count": null,
      "outputs": []
    },
    {
      "cell_type": "code",
      "source": [
        "age_values = df['age'].values.reshape(-1, 1)\n",
        "hours_values = df['hours'].values.reshape(-1, 1)\n",
        "df['age_normalized'] = scaler.fit_transform(age_values)\n",
        "df['hours_normalized'] = scaler.fit_transform(hours_values)"
      ],
      "metadata": {
        "execution": {
          "iopub.status.busy": "2024-04-13T06:00:21.789069Z",
          "iopub.execute_input": "2024-04-13T06:00:21.78943Z",
          "iopub.status.idle": "2024-04-13T06:00:21.797237Z",
          "shell.execute_reply.started": "2024-04-13T06:00:21.789402Z",
          "shell.execute_reply": "2024-04-13T06:00:21.796386Z"
        },
        "trusted": true,
        "id": "vPjf7FPIHGh-"
      },
      "execution_count": null,
      "outputs": []
    },
    {
      "cell_type": "code",
      "source": [
        "df.drop(columns=[\"age\",\"hours\"],inplace=True)"
      ],
      "metadata": {
        "execution": {
          "iopub.status.busy": "2024-04-13T06:00:23.823359Z",
          "iopub.execute_input": "2024-04-13T06:00:23.823763Z",
          "iopub.status.idle": "2024-04-13T06:00:23.83208Z",
          "shell.execute_reply.started": "2024-04-13T06:00:23.823732Z",
          "shell.execute_reply": "2024-04-13T06:00:23.831308Z"
        },
        "trusted": true,
        "id": "Jsom3S41HGh-"
      },
      "execution_count": null,
      "outputs": []
    },
    {
      "cell_type": "code",
      "source": [
        "df[\"Income\"]=df[\"Income\"].astype(\"int\")\n",
        "df[\"edu\"]=df[\"edu\"].astype(\"int\")"
      ],
      "metadata": {
        "execution": {
          "iopub.status.busy": "2024-04-13T06:00:26.000775Z",
          "iopub.execute_input": "2024-04-13T06:00:26.001135Z",
          "iopub.status.idle": "2024-04-13T06:00:26.007349Z",
          "shell.execute_reply.started": "2024-04-13T06:00:26.001109Z",
          "shell.execute_reply": "2024-04-13T06:00:26.006369Z"
        },
        "trusted": true,
        "id": "ctrLpq9vHGh-"
      },
      "execution_count": null,
      "outputs": []
    },
    {
      "cell_type": "code",
      "source": [
        "X = df.drop(columns=[\"Income\"])\n",
        "y = df['Income']\n",
        "\n",
        "X_train, X_test, y_train, y_test = train_test_split(X, y, test_size=0.3, random_state=int(max(y)))\n",
        "\n",
        "# I have used GridSearchCV on my local machine and best parameters obtained from GridSearchCV are listed below\n",
        "best_params = {\n",
        "    'n_estimators': 300,\n",
        "    'max_depth': 20,\n",
        "    'min_samples_split': 10,\n",
        "    'min_samples_leaf': 1\n",
        "}\n",
        "\n",
        "# Initialize the RandomForestClassifier with the best parameters\n",
        "best_rf_classifier = RandomForestClassifier(**best_params)\n",
        "\n",
        "# Train the classifier\n",
        "best_rf_classifier.fit(X_train, y_train)\n",
        "\n",
        "# Make predictions\n",
        "y_pred = best_rf_classifier.predict(X_test)\n",
        "\n",
        "# Evaluate the classifier\n",
        "accuracy = accuracy_score(y_test, y_pred)\n",
        "print(\"Accuracy:\", accuracy)\n",
        "print(\"\\nClassification Report:\\n\", classification_report(y_test, y_pred))\n",
        "print(\"\\nCddonfusion Matrix:\\n\", confusion_matrix(y_test, y_pred))"
      ],
      "metadata": {
        "execution": {
          "iopub.status.busy": "2024-04-13T06:00:51.179061Z",
          "iopub.execute_input": "2024-04-13T06:00:51.17944Z",
          "iopub.status.idle": "2024-04-13T06:00:51.428022Z",
          "shell.execute_reply.started": "2024-04-13T06:00:51.179412Z",
          "shell.execute_reply": "2024-04-13T06:00:51.426392Z"
        },
        "trusted": true,
        "id": "bMgAVOv-HGh-"
      },
      "execution_count": null,
      "outputs": []
    },
    {
      "cell_type": "code",
      "source": [
        "df.head()"
      ],
      "metadata": {
        "execution": {
          "iopub.status.busy": "2024-04-13T06:00:28.100407Z",
          "iopub.execute_input": "2024-04-13T06:00:28.100734Z",
          "iopub.status.idle": "2024-04-13T06:00:28.122142Z",
          "shell.execute_reply.started": "2024-04-13T06:00:28.10071Z",
          "shell.execute_reply": "2024-04-13T06:00:28.121504Z"
        },
        "trusted": true,
        "id": "advHdUvZHGh_"
      },
      "execution_count": null,
      "outputs": []
    },
    {
      "cell_type": "code",
      "source": [
        "df.shape"
      ],
      "metadata": {
        "execution": {
          "iopub.status.busy": "2024-04-13T06:00:34.02835Z",
          "iopub.execute_input": "2024-04-13T06:00:34.029271Z",
          "iopub.status.idle": "2024-04-13T06:00:34.0357Z",
          "shell.execute_reply.started": "2024-04-13T06:00:34.029232Z",
          "shell.execute_reply": "2024-04-13T06:00:34.034671Z"
        },
        "trusted": true,
        "id": "9Q1c31k1HGh_"
      },
      "execution_count": null,
      "outputs": []
    },
    {
      "cell_type": "code",
      "source": [
        "from sklearn.model_selection import train_test_split,GridSearchCV\n",
        "from sklearn.linear_model import LogisticRegression\n",
        "from sklearn.tree import DecisionTreeClassifier, plot_tree\n",
        "from sklearn.ensemble import RandomForestClassifier\n",
        "from sklearn.svm import SVC\n",
        "from sklearn.naive_bayes import GaussianNB\n",
        "from sklearn.metrics import accuracy_score, classification_report, confusion_matrix"
      ],
      "metadata": {
        "execution": {
          "iopub.status.busy": "2024-04-13T06:00:48.054789Z",
          "iopub.execute_input": "2024-04-13T06:00:48.055449Z",
          "iopub.status.idle": "2024-04-13T06:00:48.060226Z",
          "shell.execute_reply.started": "2024-04-13T06:00:48.055403Z",
          "shell.execute_reply": "2024-04-13T06:00:48.059341Z"
        },
        "trusted": true,
        "id": "nh7gy40AHGh_"
      },
      "execution_count": null,
      "outputs": []
    },
    {
      "cell_type": "code",
      "source": [
        "# The recall of 0 that is <=50 is 92% which is really good because we had more values for the 0 value"
      ],
      "metadata": {
        "id": "W1vIeHBEHGh_"
      },
      "execution_count": null,
      "outputs": []
    },
    {
      "cell_type": "code",
      "source": [
        "# to improve this we can use SMOTE technique"
      ],
      "metadata": {
        "id": "a3ydYfgZHGh_"
      },
      "execution_count": null,
      "outputs": []
    }
  ]
}
